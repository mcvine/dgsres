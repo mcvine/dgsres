{
 "cells": [
  {
   "cell_type": "markdown",
   "metadata": {},
   "source": [
    "# Preparation"
   ]
  },
  {
   "cell_type": "code",
   "execution_count": null,
   "metadata": {},
   "outputs": [],
   "source": [
    "import os\n",
    "workdir = os.path.expanduser('~/simulations/spinw')\n",
    "!mkdir -p {workdir}\n",
    "%cd {workdir}"
   ]
  },
  {
   "cell_type": "code",
   "execution_count": null,
   "metadata": {},
   "outputs": [],
   "source": [
    "import numpy as np"
   ]
  },
  {
   "cell_type": "code",
   "execution_count": null,
   "metadata": {},
   "outputs": [],
   "source": [
    "from matplotlib import pyplot as plt\n",
    "%matplotlib inline"
   ]
  },
  {
   "cell_type": "code",
   "execution_count": null,
   "metadata": {},
   "outputs": [],
   "source": [
    "import sys\n",
    "# sys.path.insert(0, '/SNS/users/lj7/dv/mcvine/dgsres/')\n",
    "import dgsres\n",
    "dgsres"
   ]
  },
  {
   "cell_type": "code",
   "execution_count": null,
   "metadata": {},
   "outputs": [],
   "source": [
    "from dgsres.singlextal import workflow\n",
    "reload(workflow)"
   ]
  },
  {
   "cell_type": "code",
   "execution_count": null,
   "metadata": {},
   "outputs": [],
   "source": [
    "import imp\n",
    "config = imp.load_source('config', '/path/to/convolution_config.py')"
   ]
  },
  {
   "cell_type": "code",
   "execution_count": null,
   "metadata": {},
   "outputs": [],
   "source": [
    "for sl in config.slices:\n",
    "    workflow.create_convolution_calculator(sl)"
   ]
  },
  {
   "cell_type": "markdown",
   "metadata": {},
   "source": [
    "# Prepare image to convolve"
   ]
  },
  {
   "cell_type": "code",
   "execution_count": null,
   "metadata": {},
   "outputs": [],
   "source": [
    "# Code to find out what is the image to calculate to be convoluted\n",
    "import imp\n",
    "config = imp.load_source('config', '/path/to/convolution_config.py')\n",
    "from dgsres.singlextal import workflow\n",
    "slices_of_interest = config.slices[:]\n",
    "# Checking that the grid dimensions are ok\n",
    "for slice_index in range(0,len(slices_of_interest)):\n",
    "    #slice_index=0\n",
    "    sl = config.slices[slice_index]\n",
    "    workflow.create_convolution_calculator(sl) \n",
    "    convolver = sl.convolution.calculator\n",
    "    print(\"Slice {0}:\".format(sl.name))\n",
    "    print(str(convolver.finer_expanded_grid))\n",
    "    print(\"Array Shape of the model: {0}x{1}\".format(len(convolver.finer_expanded_grid.xaxis.ticks()),len(convolver.finer_expanded_grid.yaxis.ticks())))\n",
    "    print('-'*50+\"\\n\")"
   ]
  },
  {
   "cell_type": "markdown",
   "metadata": {},
   "source": [
    "# Convolve"
   ]
  },
  {
   "cell_type": "code",
   "execution_count": null,
   "metadata": {},
   "outputs": [],
   "source": [
    "%%time\n",
    "%matplotlib inline\n",
    "for i, sl in enumerate(config.slices):\n",
    "    print sl.name\n",
    "    workflow.create_convolution_calculator(sl)\n",
    "    convolver = sl.convolution.calculator\n",
    "    img = np.load('./%s_spinw.npy' % sl.name)\n",
    "    convolved = convolver.convolve(img.T)\n",
    "    np.save('./%s_convolved.npy' % sl.name, convolved)    \n",
    "\n",
    "    plt.figure(figsize=(5,5))\n",
    "    qgrid, Egrid = np.meshgrid(\n",
    "        convolver.finer_expanded_grid.xaxis.ticks(),\n",
    "        convolver.finer_expanded_grid.yaxis.ticks(),\n",
    "    )\n",
    "    plt.pcolormesh(qgrid, Egrid, convolved)\n",
    "    plt.xlabel('q')\n",
    "    plt.colorbar()\n",
    "    plt.ylabel('E (meV)')\n",
    "    plt.savefig('%s_IqE.png' % sl.name)\n",
    "    plt.close()"
   ]
  },
  {
   "cell_type": "code",
   "execution_count": null,
   "metadata": {},
   "outputs": [],
   "source": []
  },
  {
   "cell_type": "markdown",
   "metadata": {},
   "source": [
    "# Plot all"
   ]
  },
  {
   "cell_type": "code",
   "execution_count": null,
   "metadata": {},
   "outputs": [],
   "source": [
    "%matplotlib notebook"
   ]
  },
  {
   "cell_type": "code",
   "execution_count": null,
   "metadata": {},
   "outputs": [],
   "source": [
    "# plt.figure()\n",
    "f, axarr = plt.subplots(1,4, sharex=False, sharey=True, figsize=(9.5, 6))\n",
    "\n",
    "xticks_list = [\n",
    "    range(4),\n",
    "    range(3),\n",
    "    range(3),\n",
    "    range(3)\n",
    "]\n",
    "xlimits_list = [\n",
    "    (0, 4), \n",
    "    (0,2),\n",
    "    (2,0),\n",
    "    (0,2.5)\n",
    "]\n",
    "\n",
    "for i, (sl, xticks, xlimits) in enumerate(zip(config.slices, xticks_list, xlimits_list)):\n",
    "    # print sl.name\n",
    "    img = np.load('./%s_convolved.npy' % sl.name)\n",
    "    convolver = sl.convolution.calculator\n",
    "    qgrid, Egrid = np.meshgrid(\n",
    "        convolver.finer_expanded_grid.xaxis.ticks(),\n",
    "        convolver.finer_expanded_grid.yaxis.ticks(),\n",
    "    )\n",
    "    ax = axarr[i]\n",
    "    ax.pcolormesh(qgrid, Egrid, img, vmin=0, vmax=100) #, cmap='jet')\n",
    "    ax.set_xticks(xticks)\n",
    "    ax.set_xlim(*xlimits)\n",
    "    ax.set_xlabel(sl.name)\n",
    "\n",
    "# plt.xlabel('q')\n",
    "plt.ylim(0, 25)\n",
    "ax.set_ylabel('E(meV)')\n",
    "# plt.xticks(np.arange(4))\n",
    "# plt.colorbar()\n",
    "# plt.ylabel('E (meV)')\n",
    "\n",
    "f.subplots_adjust(wspace=0)\n",
    "for ax in axarr:\n",
    "    ax.label_outer()"
   ]
  },
  {
   "cell_type": "code",
   "execution_count": null,
   "metadata": {},
   "outputs": [],
   "source": []
  }
 ],
 "metadata": {
  "kernelspec": {
   "display_name": "mcvine-unstable at jnrk-sns-analysis",
   "language": "python",
   "name": "jnrk-analysis-mcvine-unstable"
  },
  "language_info": {
   "codemirror_mode": {
    "name": "ipython",
    "version": 2
   },
   "file_extension": ".py",
   "mimetype": "text/x-python",
   "name": "python",
   "nbconvert_exporter": "python",
   "pygments_lexer": "ipython2",
   "version": "2.7.15"
  },
  "toc": {
   "base_numbering": 1,
   "nav_menu": {},
   "number_sections": true,
   "sideBar": true,
   "skip_h1_title": false,
   "title_cell": "Table of Contents",
   "title_sidebar": "Contents",
   "toc_cell": false,
   "toc_position": {
    "height": "calc(100% - 180px)",
    "left": "10px",
    "top": "150px",
    "width": "332px"
   },
   "toc_section_display": true,
   "toc_window_display": true
  }
 },
 "nbformat": 4,
 "nbformat_minor": 4
}
