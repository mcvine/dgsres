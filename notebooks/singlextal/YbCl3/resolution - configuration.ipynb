{
 "cells": [
  {
   "cell_type": "markdown",
   "metadata": {},
   "source": [
    "# Resolution configuration"
   ]
  },
  {
   "cell_type": "markdown",
   "metadata": {},
   "source": [
    "## import tools"
   ]
  },
  {
   "cell_type": "code",
   "execution_count": null,
   "metadata": {},
   "outputs": [],
   "source": [
    "from matplotlib import pyplot as plt\n",
    "import numpy as np, os, glob\n",
    "import histogram.hdf as hh, histogram as H"
   ]
  },
  {
   "cell_type": "code",
   "execution_count": null,
   "metadata": {},
   "outputs": [],
   "source": [
    "import sys\n",
    "# sys.path.insert(0, os.path.expanduser('~/dv/mcvine/dgsres/'))\n",
    "import dgsres\n",
    "dgsres"
   ]
  },
  {
   "cell_type": "code",
   "execution_count": null,
   "metadata": {},
   "outputs": [],
   "source": [
    "%matplotlib inline"
   ]
  },
  {
   "cell_type": "markdown",
   "metadata": {},
   "source": [
    "define and enter working dir"
   ]
  },
  {
   "cell_type": "code",
   "execution_count": null,
   "metadata": {},
   "outputs": [],
   "source": [
    "workdir = os.path.expanduser('~/simulations/CNCS/YbCl3')\n",
    "!mkdir -p {workdir}\n",
    "%cd {workdir}"
   ]
  },
  {
   "cell_type": "markdown",
   "metadata": {},
   "source": [
    "## Beam\n",
    "* use the beam already calculated in beam.ipynb. change the path below.\n",
    "* beam/out/neutrons should exist"
   ]
  },
  {
   "cell_type": "code",
   "execution_count": null,
   "metadata": {},
   "outputs": [],
   "source": [
    "!ln -s \"/path/to/beam\" beam"
   ]
  },
  {
   "cell_type": "code",
   "execution_count": null,
   "metadata": {},
   "outputs": [],
   "source": [
    "ls beam/"
   ]
  },
  {
   "cell_type": "code",
   "execution_count": null,
   "metadata": {},
   "outputs": [],
   "source": [
    "beam = os.path.abspath(\"./beam/\")"
   ]
  },
  {
   "cell_type": "code",
   "execution_count": null,
   "metadata": {},
   "outputs": [],
   "source": [
    "!mcvine neutronstorage count {beam}/out/neutrons"
   ]
  },
  {
   "cell_type": "markdown",
   "metadata": {},
   "source": [
    "## Sample"
   ]
  },
  {
   "cell_type": "markdown",
   "metadata": {},
   "source": [
    "Please modify the following cell to match your sample specification such as chemical formula, lattice parameters, and orientation (by u,v vectors), and shape. Please make sure keep the \"excitations\" section intact"
   ]
  },
  {
   "cell_type": "code",
   "execution_count": null,
   "metadata": {},
   "outputs": [],
   "source": [
    "6.328*np.cos(110.55*np.pi/180.), 6.328*np.sin(110.55*np.pi/180.)"
   ]
  },
  {
   "cell_type": "code",
   "execution_count": null,
   "metadata": {},
   "outputs": [],
   "source": [
    "%%file sample.yaml\n",
    "name: YbCl3\n",
    "chemical_formula: YbCl3\n",
    "lattice: \n",
    " constants: 6.734, 11.613, 6.328, 90, 110.55, 90\n",
    " basis_vectors:\n",
    "  - 6.734, 0, 0\n",
    "  - 0, 11.613, 0\n",
    "  - -2.221, 0, 5.925\n",
    "excitations:\n",
    " - type: DGSresolution\n",
    "orientation:\n",
    " u: 1,0,0\n",
    " v: 0,1,0\n",
    "shape: block width=\"3*mm\" height=\"2.0*cm\" thickness=\"3*mm\"\n",
    "temperature: 0.3*K"
   ]
  },
  {
   "cell_type": "markdown",
   "metadata": {},
   "source": [
    "check"
   ]
  },
  {
   "cell_type": "code",
   "execution_count": null,
   "metadata": {},
   "outputs": [],
   "source": [
    "from mcvine.workflow.sample import loadSampleYml\n",
    "sample = loadSampleYml('sample.yaml')"
   ]
  },
  {
   "cell_type": "markdown",
   "metadata": {},
   "source": [
    "## Configuration file"
   ]
  },
  {
   "cell_type": "code",
   "execution_count": null,
   "metadata": {},
   "outputs": [],
   "source": [
    "%%file resolution_workflow_config.py\n",
    "import os\n",
    "thisdir = os.path.abspath(os.path.dirname(__file__) or '.')\n",
    "\n",
    "import numpy as np\n",
    "\n",
    "# instrument\n",
    "from dgsres.instruments import cncs as instrument\n",
    "\n",
    "# sample\n",
    "sample_yaml = os.path.join(thisdir, 'sample.yaml')\n",
    "\n",
    "# exp condition\n",
    "beam = os.path.join(thisdir, \"beam/\")\n",
    "Ei = 2.5004148296410698\n",
    "\n",
    "from mcvine.workflow import singlextal as sx\n",
    "psi_scan = sx.axis(min=0., max=181., step=1.)\n",
    "\n",
    "# sim directory name\n",
    "def simdir(q, E, slice):\n",
    "    return 'sim-%s-q_%.3f,E_%.3f' % (slice.name, q, E)\n",
    "sim_Nrounds_beam = 50\n",
    "\n",
    "# slice\n",
    "# \n",
    "class Slice_H00:\n",
    "    name = 'H00'\n",
    "    hkl_projection = np.array([1.,0,0])\n",
    "    hkl0 = np.array([0.,0,0])\n",
    "    \n",
    "    class grid:\n",
    "        \"simulations will be done for points on this grid\"\n",
    "        qaxis = sx.axis(min=-0.5, max=4.1, step=0.5)\n",
    "        Eaxis = sx.axis(min=-0.5, max=2.51, step=0.5)\n",
    "GammaA = Slice_H00\n",
    "\n",
    "# \n",
    "class Slice_H10:\n",
    "    name = 'H10'\n",
    "    hkl_projection = np.array([1.,0,0])\n",
    "    hkl0 = np.array([0,1.,0])\n",
    "    \n",
    "    class grid:\n",
    "        \"simulations will be done for points on this grid\"\n",
    "        qaxis = sx.axis(min=-0.5, max=4.1, step=0.5)\n",
    "        Eaxis = sx.axis(min=-0.5, max=2.51, step=0.5)\n",
    "\n",
    "# \n",
    "class Slice_H20:\n",
    "    name = 'H20'\n",
    "    hkl_projection = np.array([1.,0,0])\n",
    "    hkl0 = np.array([0,2.,0])\n",
    "    \n",
    "    class grid:\n",
    "        \"simulations will be done for points on this grid\"\n",
    "        qaxis = sx.axis(min=-0.5, max=4.1, step=0.5)\n",
    "        Eaxis = sx.axis(min=-0.5, max=2.51, step=0.5)\n",
    "\n",
    "# \n",
    "class Slice_0K0:\n",
    "    name = '0K0'\n",
    "    hkl_projection = np.array([0,1.,0])\n",
    "    hkl0 = np.array([0,0,0])\n",
    "    \n",
    "    class grid:\n",
    "        \"simulations will be done for points on this grid\"\n",
    "        qaxis = sx.axis(min=-3, max=1, step=0.5)\n",
    "        Eaxis = sx.axis(min=-0.5, max=2.51, step=0.5)\n",
    "\n",
    "# \n",
    "class Slice_1K0:\n",
    "    name = '1K0'\n",
    "    hkl_projection = np.array([0,1.,0])\n",
    "    hkl0 = np.array([1.,0,0])\n",
    "    \n",
    "    class grid:\n",
    "        \"simulations will be done for points on this grid\"\n",
    "        qaxis = sx.axis(min=-0.5, max=4.1, step=0.5)\n",
    "        Eaxis = sx.axis(min=-0.5, max=2.51, step=0.5)\n",
    "\n",
    "# \n",
    "class Slice_HH0:\n",
    "    name = 'HH0'\n",
    "    hkl_projection = np.array([1.,1.,0])\n",
    "    hkl0 = np.array([0,0,0.])\n",
    "    \n",
    "    class grid:\n",
    "        \"simulations will be done for points on this grid\"\n",
    "        qaxis = sx.axis(min=-0.5, max=4.1, step=0.5)\n",
    "        Eaxis = sx.axis(min=-0.5, max=2.51, step=0.5)\n",
    "\n",
    "# \n",
    "class Slice_0p5K0:\n",
    "    name = '0p5K0'\n",
    "    hkl_projection = np.array([0,1.,0])\n",
    "    hkl0 = np.array([0.5,0,0])\n",
    "    \n",
    "    class grid:\n",
    "        \"simulations will be done for points on this grid\"\n",
    "        qaxis = sx.axis(min=-0.5, max=4.1, step=0.5)\n",
    "        Eaxis = sx.axis(min=-0.5, max=2.51, step=0.5)\n",
    "        \n",
    "#\n",
    "# slices = [Slice_H00, Slice_H10, Slice_H20, Slice_0K0, Slice_1K0, Slice_HH0, Slice_0p5K0]\n",
    "# slices = [Slice_H03]\n",
    "slices = [Slice_0K0]\n",
    "\n",
    "class res_2d_grid:\n",
    "    \"resolution data will be histogrammed into this grid\"\n",
    "    qaxis = sx.axis(min=-0.25, max=0.25, step=0.01)\n",
    "    Eaxis = sx.axis(min=-0.5, max=0.51, step=0.02)\n",
    "\n",
    "class fitting:\n",
    "    rounds = 3\n",
    "    gaussian2d_threshold = 0.5\n",
    "    alpha_bounds = (-np.pi/2, np.pi/2)\n",
    "\n",
    "for sl in slices:\n",
    "    sl.res_2d_grid = res_2d_grid\n",
    "    sl.fitting = fitting\n",
    "    "
   ]
  },
  {
   "cell_type": "markdown",
   "metadata": {},
   "source": [
    "check"
   ]
  },
  {
   "cell_type": "code",
   "execution_count": null,
   "metadata": {},
   "outputs": [],
   "source": [
    "import imp\n",
    "config = imp.load_source('config', './resolution_workflow_config.py')"
   ]
  },
  {
   "cell_type": "code",
   "execution_count": null,
   "metadata": {},
   "outputs": [],
   "source": []
  }
 ],
 "metadata": {
  "kernelspec": {
   "display_name": "mcvine-py37",
   "language": "python",
   "name": "mcvine-py37"
  },
  "language_info": {
   "codemirror_mode": {
    "name": "ipython",
    "version": 3
   },
   "file_extension": ".py",
   "mimetype": "text/x-python",
   "name": "python",
   "nbconvert_exporter": "python",
   "pygments_lexer": "ipython3",
   "version": "3.7.10"
  },
  "toc": {
   "base_numbering": 1,
   "nav_menu": {},
   "number_sections": true,
   "sideBar": true,
   "skip_h1_title": false,
   "title_cell": "Table of Contents",
   "title_sidebar": "Contents",
   "toc_cell": false,
   "toc_position": {
    "height": "calc(100% - 180px)",
    "left": "10px",
    "top": "150px",
    "width": "191px"
   },
   "toc_section_display": true,
   "toc_window_display": true
  }
 },
 "nbformat": 4,
 "nbformat_minor": 4
}
