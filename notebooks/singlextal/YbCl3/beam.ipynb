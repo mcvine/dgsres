{
 "cells": [
  {
   "cell_type": "markdown",
   "metadata": {},
   "source": [
    "Create working directory and change into it. Please modify as you see fit"
   ]
  },
  {
   "cell_type": "code",
   "execution_count": null,
   "metadata": {},
   "outputs": [],
   "source": [
    "import os"
   ]
  },
  {
   "cell_type": "code",
   "execution_count": null,
   "metadata": {},
   "outputs": [],
   "source": [
    "startdir = os.path.expanduser('~/simulations/CNCS/YbCl3')\n",
    "!mkdir -p {startdir}\n",
    "%cd {startdir}"
   ]
  },
  {
   "cell_type": "markdown",
   "metadata": {},
   "source": [
    "# Simulate beam\n",
    "Run the following cell to start a wizard for simulating DGS beams at SNS. \n",
    "Notes can be here to remind the exp condition\n",
    "\n",
    "    https://monitor.sns.gov/report/cncs/339781/#\n",
    "    Run 339781\n",
    "    YbCl3 Ei=2.49 mev, high flux. f41=300, f42=300"
   ]
  },
  {
   "cell_type": "code",
   "execution_count": null,
   "metadata": {},
   "outputs": [],
   "source": [
    "from mcvine.ui.jupyter import beam\n",
    "context = beam.beam()"
   ]
  },
  {
   "cell_type": "markdown",
   "metadata": {},
   "source": [
    "#### save configuration for future reference\n",
    "You may want to change the filename"
   ]
  },
  {
   "cell_type": "code",
   "execution_count": null,
   "metadata": {},
   "outputs": [],
   "source": [
    "context.save(\"beam_2p49meV_YbCl3.yaml\")"
   ]
  },
  {
   "cell_type": "code",
   "execution_count": null,
   "metadata": {},
   "outputs": [],
   "source": [
    "cat beam_2p49meV_YbCl3.yaml"
   ]
  },
  {
   "cell_type": "markdown",
   "metadata": {},
   "source": [
    "#### Uncomment and run the following cell to load an existing configuration"
   ]
  },
  {
   "cell_type": "code",
   "execution_count": null,
   "metadata": {
    "tags": []
   },
   "outputs": [],
   "source": [
    "# context = beam.wiz.Context(); context.load(\"beam.yaml\")"
   ]
  },
  {
   "cell_type": "markdown",
   "metadata": {},
   "source": [
    "# Check output"
   ]
  },
  {
   "cell_type": "code",
   "execution_count": null,
   "metadata": {},
   "outputs": [],
   "source": [
    "ls {context.outdir}/out"
   ]
  },
  {
   "cell_type": "code",
   "execution_count": null,
   "metadata": {},
   "outputs": [],
   "source": [
    "import histogram.hdf as hh, histogram as H, os\n",
    "from matplotlib import pyplot as plt\n",
    "%matplotlib inline"
   ]
  },
  {
   "cell_type": "markdown",
   "metadata": {},
   "source": [
    "#### Ei, T0"
   ]
  },
  {
   "cell_type": "code",
   "execution_count": null,
   "metadata": {},
   "outputs": [],
   "source": [
    "props = eval(open(os.path.join(context.outdir, 'out/props.json')).read())\n",
    "Ei, T0 = props['average energy'], props['emission time']\n",
    "print Ei; print T0"
   ]
  },
  {
   "cell_type": "markdown",
   "metadata": {},
   "source": [
    "#### Plot I(E)"
   ]
  },
  {
   "cell_type": "code",
   "execution_count": null,
   "metadata": {},
   "outputs": [],
   "source": [
    "I_E = hh.load(os.path.join(context.outdir, \"out/ienergy.h5\"))\n",
    "plt.figure()\n",
    "plt.errorbar(I_E.energy, I_E.I, I_E.E2**.5)\n",
    "plt.xlabel('E (meV)')"
   ]
  },
  {
   "cell_type": "markdown",
   "metadata": {},
   "source": [
    "#### Plot monitors"
   ]
  },
  {
   "cell_type": "code",
   "execution_count": null,
   "metadata": {},
   "outputs": [],
   "source": [
    "%matplotlib notebook"
   ]
  },
  {
   "cell_type": "code",
   "execution_count": null,
   "metadata": {},
   "outputs": [],
   "source": [
    "import glob\n",
    "monitors = sorted(glob.glob(os.path.join(context.outdir, 'out/mon*-itof-focused.h5')))\n",
    "nmons = len(monitors)\n",
    "fig, axes = plt.subplots(1, nmons, figsize=(5*nmons,3))\n",
    "if nmons == 1: axes = [axes] # when there is only one subplot, plt,subplots return an axe instance, not a list\n",
    "for mon, axe in zip(monitors, axes):\n",
    "    itof = hh.load(mon)\n",
    "    axe.errorbar(itof.tof*1e6, itof.I, itof.E2**.5)\n",
    "    axe.set_xlabel('tof ($\\mu$s)')\n",
    "fig.tight_layout()"
   ]
  },
  {
   "cell_type": "markdown",
   "metadata": {},
   "source": [
    "#### Plot cross section"
   ]
  },
  {
   "cell_type": "code",
   "execution_count": null,
   "metadata": {},
   "outputs": [],
   "source": [
    "crosssection = hh.load(os.path.join(context.outdir, \"out/ix_y.h5\"))\n",
    "plt.figure()\n",
    "H.plot(crosssection)"
   ]
  },
  {
   "cell_type": "markdown",
   "metadata": {},
   "source": [
    "#### metadata"
   ]
  },
  {
   "cell_type": "code",
   "execution_count": null,
   "metadata": {},
   "outputs": [],
   "source": [
    "print(props)"
   ]
  },
  {
   "cell_type": "markdown",
   "metadata": {},
   "source": [
    "#### number of neutrons"
   ]
  },
  {
   "cell_type": "code",
   "execution_count": null,
   "metadata": {},
   "outputs": [],
   "source": [
    "! mcvine neutronstorage count {context.outdir}/out/neutrons"
   ]
  },
  {
   "cell_type": "code",
   "execution_count": null,
   "metadata": {},
   "outputs": [],
   "source": []
  }
 ],
 "metadata": {
  "kernelspec": {
   "display_name": "mcvine-py37",
   "language": "python",
   "name": "mcvine-py37"
  },
  "language_info": {
   "codemirror_mode": {
    "name": "ipython",
    "version": 3
   },
   "file_extension": ".py",
   "mimetype": "text/x-python",
   "name": "python",
   "nbconvert_exporter": "python",
   "pygments_lexer": "ipython3",
   "version": "3.7.10"
  },
  "toc": {
   "base_numbering": 1,
   "nav_menu": {},
   "number_sections": true,
   "sideBar": true,
   "skip_h1_title": false,
   "title_cell": "Table of Contents",
   "title_sidebar": "Contents",
   "toc_cell": false,
   "toc_position": {},
   "toc_section_display": true,
   "toc_window_display": true
  }
 },
 "nbformat": 4,
 "nbformat_minor": 4
}
